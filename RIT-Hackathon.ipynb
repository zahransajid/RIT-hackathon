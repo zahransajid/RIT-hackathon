{
 "cells": [
  {
   "cell_type": "code",
   "execution_count": 1,
   "metadata": {},
   "outputs": [],
   "source": []
  },
  {
   "cell_type": "code",
   "execution_count": null,
   "metadata": {},
   "outputs": [],
   "source": [
    "import pandas as pd\n",
    "import os\n",
    "# cant install dotenv so hacky workaround\n",
    "with open('.env') as f:\n",
    "    for line in f:\n",
    "        k,v = line.split('=')\n",
    "        os.environ[k] = v.strip()\n",
    "DATA_DIR = os.environ['DATA_DIR']"
   ]
  },
  {
   "cell_type": "code",
   "execution_count": 5,
   "metadata": {},
   "outputs": [],
   "source": [
    "# Load files from dirtectory as kv pairs\n",
    "list_files = {\n",
    "    filename : pd.read_excel(os.path.join(DATA_DIR, filename)) for filename in os.listdir(DATA_DIR)\n",
    "}"
   ]
  },
  {
   "cell_type": "code",
   "execution_count": 10,
   "metadata": {},
   "outputs": [],
   "source": [
    "def convert_to_day_of_week(date : str) -> str:\n",
    "    return pd.to_datetime(date,dayfirst=True).day_name()"
   ]
  },
  {
   "cell_type": "code",
   "execution_count": 11,
   "metadata": {},
   "outputs": [],
   "source": [
    "# Add the date as a column to each dataframe\n",
    "for filename, df in list_files.items():\n",
    "    df['date'] = filename.split('.')[0]\n",
    "    df['day'] = convert_to_day_of_week(filename.split('.')[0])"
   ]
  },
  {
   "cell_type": "code",
   "execution_count": null,
   "metadata": {},
   "outputs": [],
   "source": [
    "# join data\n",
    "joined_data = pd.concat(list_files.values(), ignore_index=True)"
   ]
  },
  {
   "cell_type": "code",
   "execution_count": 14,
   "metadata": {},
   "outputs": [
    {
     "name": "stdout",
     "output_type": "stream",
     "text": [
      "{'Thursday', 'Friday', 'Wednesday', 'Monday', 'Tuesday', 'Sunday', 'Saturday'}\n"
     ]
    }
   ],
   "source": [
    "# Aggregate by day\n",
    "days = set(joined_data['day'])\n",
    "print(days)\n",
    "\n",
    "for day in days:\n",
    "    day_data = joined_data[joined_data['day'] == day]\n",
    "    # do stuff here"
   ]
  }
 ],
 "metadata": {
  "kernelspec": {
   "display_name": "Python 3",
   "language": "python",
   "name": "python3"
  },
  "language_info": {
   "codemirror_mode": {
    "name": "ipython",
    "version": 3
   },
   "file_extension": ".py",
   "mimetype": "text/x-python",
   "name": "python",
   "nbconvert_exporter": "python",
   "pygments_lexer": "ipython3",
   "version": "3.10.5"
  }
 },
 "nbformat": 4,
 "nbformat_minor": 2
}
