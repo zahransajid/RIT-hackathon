{
 "cells": [
  {
   "cell_type": "code",
   "execution_count": 1,
   "metadata": {},
   "outputs": [],
   "source": []
  },
  {
   "cell_type": "code",
   "execution_count": 20,
   "metadata": {},
   "outputs": [],
   "source": [
    "import pandas as pd\n",
    "import os\n",
    "from typing import List\n",
    "# cant install dotenv so hacky workaround\n",
    "with open('.env') as f:\n",
    "    for line in f:\n",
    "        k,v = line.split('=')\n",
    "        os.environ[k.strip()] = v.strip()\n",
    "DATA_DIR = os.environ['DATA_DIR']"
   ]
  },
  {
   "cell_type": "code",
   "execution_count": 5,
   "metadata": {},
   "outputs": [],
   "source": [
    "# Load files from dirtectory as kv pairs\n",
    "list_files = {\n",
    "    filename : pd.read_excel(os.path.join(DATA_DIR, filename)) for filename in os.listdir(DATA_DIR)\n",
    "}"
   ]
  },
  {
   "cell_type": "code",
   "execution_count": 10,
   "metadata": {},
   "outputs": [],
   "source": [
    "def convert_to_day_of_week(date : str) -> str:\n",
    "    return pd.to_datetime(date,dayfirst=True).day_name()"
   ]
  },
  {
   "cell_type": "code",
   "execution_count": null,
   "metadata": {},
   "outputs": [],
   "source": [
    "# Add the date as a column to each dataframe\n",
    "for filename, df in list_files.items():\n",
    "    df['date'] = filename.split('.')[0]\n",
    "    df['day'] = convert_to_day_of_week(filename.split('.')[0])"
   ]
  },
  {
   "cell_type": "code",
   "execution_count": null,
   "metadata": {},
   "outputs": [],
   "source": [
    "# join data\n",
    "joined_data = pd.concat(list_files.values(), ignore_index=True)"
   ]
  },
  {
   "cell_type": "code",
   "execution_count": null,
   "metadata": {},
   "outputs": [],
   "source": [
    "# TODO: Add implementations for the following functions\n",
    "def calculate_AWT(df : pd.DataFrame) -> float:\n",
    "    # takes in a dataframe and returns a float of average waiting time\n",
    "    # assume that the df passed is for a specific route on a specific date\n",
    "    return 0\n",
    "\n",
    "def calculate_kilometers_travelled(df : pd.DataFrame) -> float:\n",
    "    # takes in a dataframe and returns the kilometers travelled\n",
    "    # assume that the df passed is for a specific route on a specific date\n",
    "    return 0\n",
    "\n",
    "def calculate_passenger_ridership(df : pd.DataFrame) -> float:\n",
    "    # takes in a dataframe and returns passenger ridership\n",
    "    # assume that the df passed is for a specific route on a specific date\n",
    "    return 0"
   ]
  },
  {
   "cell_type": "code",
   "execution_count": null,
   "metadata": {},
   "outputs": [],
   "source": [
    "# Aggregate by day and short route name\n",
    "days = set(joined_data['day'])\n",
    "print(days)\n",
    "data_aggregate = {day : {} for day in days}\n",
    "\n",
    "for day in days:\n",
    "    day_data = joined_data[joined_data['day'] == day]\n",
    "    route_names = set(day_data['route_short_name'])\n",
    "    for route in route_names:\n",
    "        grouped_by_route = day_data[day_data['route_short_name'] == route]\n",
    "        dates = set(grouped_by_route['date'])\n",
    "        if(route not in data_aggregate[day]):\n",
    "            data_aggregate[day][route] = {\"AWB\" : [], \"kilometers_travelled\" : [], \"passenger_ridership\" : []}\n",
    "        for date in dates:\n",
    "            grouped_by_date_and_route = grouped_by_route[grouped_by_route['date'] == date]\n",
    "            # Calculate metrics since they are on a per-day per-route basis\n",
    "            data_aggregate[day][route]['AWB'].append(calculate_AWT(grouped_by_date_and_route))\n",
    "            data_aggregate[day][route]['kilometers_travelled'].append(calculate_kilometers_travelled(grouped_by_date_and_route))\n",
    "            data_aggregate[day][route]['passenger_ridership'].append(calculate_passenger_ridership(grouped_by_date_and_route))\n",
    "            "
   ]
  },
  {
   "cell_type": "code",
   "execution_count": null,
   "metadata": {},
   "outputs": [],
   "source": [
    "for day in data_aggregate:\n",
    "    for route in data_aggregate[day]:\n",
    "        # TODO: Calculate average,min, max for each route\n",
    "        data_aggregate[day][route]['AWB']\n",
    "        data_aggregate[day][route]['kilometers_travelled']\n",
    "        data_aggregate[day][route]['passenger_ridership']"
   ]
  }
 ],
 "metadata": {
  "kernelspec": {
   "display_name": "Python 3",
   "language": "python",
   "name": "python3"
  },
  "language_info": {
   "codemirror_mode": {
    "name": "ipython",
    "version": 3
   },
   "file_extension": ".py",
   "mimetype": "text/x-python",
   "name": "python",
   "nbconvert_exporter": "python",
   "pygments_lexer": "ipython3",
   "version": "3.10.5"
  }
 },
 "nbformat": 4,
 "nbformat_minor": 2
}
